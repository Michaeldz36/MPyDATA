{
 "cells": [
  {
   "cell_type": "code",
   "execution_count": 1,
   "metadata": {},
   "outputs": [],
   "source": [
    "import os\n",
    "os.environ[\"NUMBA_DISABLE_JIT\"] = \"1\""
   ]
  },
  {
   "cell_type": "code",
   "execution_count": 2,
   "metadata": {},
   "outputs": [],
   "source": [
    "import sys, os\n",
    "if 'google.colab' in sys.modules:\n",
    "    %cd\n",
    "    % rm -rf MPyDATA\n",
    "    ! git clone --recurse-submodules -j8 https://github.com/Michaeldz36/MPyDATA.git\n",
    "    %cd MPyDATA\n",
    "    ! git checkout develop\n",
    "    ! pip install -U $(cat requirements.txt | cut -d '=' -f 1)\n",
    "else:\n",
    "    sys.path.append(os.path.join(os.getcwd(), '../..'))\n",
    "    \n",
    "from MPyDATA_examples.Olesik_et_al_2020.analysis import compute_figure_data, rel_disp, third_moment\n",
    "from MPyDATA_examples.Olesik_et_al_2020.physics.equilibrium_drop_growth import PdfEvolver\n",
    "from MPyDATA_examples.Olesik_et_al_2020.plotter import Plotter\n",
    "from MPyDATA_examples.Olesik_et_al_2020.coordinates import x_id, x_p2, x_p3,  x_log_of_pn\n",
    "from MPyDATA_examples.utils.show_plot import show_plot\n",
    "import numpy as np\n",
    "import matplotlib\n",
    "import pathlib"
   ]
  },
  {
   "cell_type": "code",
   "execution_count": 3,
   "metadata": {},
   "outputs": [],
   "source": [
    "def compute_and_plot(psi_coord, grid_layout, n_bins, GC_max, opt_set, plots, filename):\n",
    "    results, setup = compute_figure_data(\n",
    "        psi_coord=psi_coord, \n",
    "        grid_layouts=(grid_layout,),\n",
    "        nr=n_bins,\n",
    "        GC_max = GC_max,\n",
    "        opt_set=opt_set\n",
    "    )    \n",
    "    colors = ['red', 'green', 'purple', 'blue', 'orange']\n",
    "    matplotlib.rcParams.update({'font.size': 16})\n",
    "    for coord in results.keys():\n",
    "        out_steps = results[coord]['grid']['out_steps']\n",
    "        dt = results[coord]['grid']['dt']\n",
    "        plotter = Plotter(setup, plots=plots)\n",
    "        for opt_i, opts in enumerate(results[coord]['numerical'].keys()):\n",
    "            plot_data = results[coord]['numerical'][opts]\n",
    "            row = []\n",
    "            for i in range(len(out_steps)):\n",
    "                mnorm = setup.mixing_ratios[i]\n",
    "                t = out_steps[i] * dt\n",
    "                linewidth = 1+1.5*i/len(out_steps)\n",
    "                if opt_i == 0:\n",
    "                    plotter.pdf_curve(PdfEvolver(setup.pdf, setup.drdt, t), mnorm)\n",
    "                    plotter.pdf_histogram(\n",
    "                        results[coord]['grid']['r'], \n",
    "                        results[coord]['analytical'][i], \n",
    "                        bin_boundaries = results[coord]['grid']['rh'], \n",
    "                        label='analytical', \n",
    "                        mnorm=mnorm,\n",
    "                        color='black',\n",
    "                        linewidth = linewidth\n",
    "                    )\n",
    "                    \n",
    "                    \n",
    "                str_repl = [[\"'n_iters': 1\",\"upwind\"],\n",
    "                            [\"'n_iters': 2\",\"MPDATA 2 iterations\"],\n",
    "                            [\"'n_iters': 3\",\"MPDATA 3 iterations\"],\n",
    "                            [\"'\",\"\"],\n",
    "                            [\": True\",\"\"],\n",
    "                            [\"_\", \" \"],\n",
    "                            [\"{\",\"\"],[\"}\",\"\"],[\",\",\" \"]]                            \n",
    "                for repl in str_repl:\n",
    "                    opts = opts.replace(repl[0], repl[1])\n",
    "                plotter.pdf_histogram(\n",
    "                    results[coord]['grid']['r'], \n",
    "                    plot_data[i], \n",
    "                    label=opts, \n",
    "                    bin_boundaries=results[coord]['grid']['rh'], \n",
    "                    linewidth = linewidth,\n",
    "                    mnorm=mnorm, color = colors[opt_i]\n",
    "                )\n",
    "                \n",
    "                dp_dr = psi_coord.dx_dr(results[coord]['grid']['r'])\n",
    "                numeric_rel_d = rel_disp(results[coord]['grid']['rh'], plot_data[i]/dp_dr, psi_coord)\n",
    "                analytic_rel_d = rel_disp(results[coord]['grid']['rh'], results[coord]['analytical'][i]/dp_dr, psi_coord)\n",
    "                print(\"analytic rd\", analytic_rel_d)\n",
    "                print(\"numeric rd\", numeric_rel_d)\n",
    "                dispersion_ratio = (numeric_rel_d / analytic_rel_d - 1)*100\n",
    "                print(f\"dispersion ratio excess {opts}: {dispersion_ratio.to(setup.si.dimensionless).magnitude:.2g} %\")\n",
    "                print(\"\\n\")\n",
    "                                \n",
    "                numeric_mass = third_moment(results[coord]['grid']['rh'], plot_data[i]/dp_dr, psi_coord, normalised=False)\n",
    "                analytic_mass = third_moment(results[coord]['grid']['rh'], results[coord]['analytical'][i]/dp_dr, psi_coord, normalised=False)\n",
    "                mass_ratio = (numeric_mass / analytic_mass - 1) * 100\n",
    "                print(f\"mass ratio excess: {mass_ratio.to(setup.si.dimensionless).magnitude:.2g} %\")\n",
    "                print(\"\\n\")\n",
    "                \n",
    "#                 row.append((mnorm.magnitude, f\"{mass_ratio.to(setup.si.dimensionless).magnitude:.2g} %\"))\n",
    "                   \n",
    "#             if opts in excess_mass_ratios:\n",
    "#                 assert excess_mass_ratios[opts] == row\n",
    "#             else:\n",
    "#                 excess_mass_ratios[opts] = row\n",
    "        print(f\"grid_layout: {coord}\")\n",
    "        show_plot(filename)"
   ]
  },
  {
   "cell_type": "code",
   "execution_count": 4,
   "metadata": {},
   "outputs": [],
   "source": [
    "plot_setup = {\"psi_coord\":x_p2(), \"grid_layout\":x_log_of_pn(r0=1, base=2), \"GC_max\":.26,\"n_bins\":75}\n",
    "plot_setup2 = {\"psi_coord\":x_id(), \"grid_layout\":x_id(), \"GC_max\":.07,\"n_bins\":75}\n",
    "excess_mass_ratios={}\n",
    "excess_dispersion_ratios={}\n",
    "numeric_dispersions={}\n",
    "analytic_dispersions={}"
   ]
  },
  {
   "cell_type": "code",
   "execution_count": 5,
   "metadata": {
    "scrolled": false
   },
   "outputs": [
    {
     "name": "stderr",
     "output_type": "stream",
     "text": [
      "[Parallel(n_jobs=-2)]: Using backend ThreadingBackend with 7 concurrent workers.\n",
      "[Parallel(n_jobs=-2)]: Done   1 tasks      | elapsed:    8.0s\n",
      "[Parallel(n_jobs=-2)]: Done   1 out of   1 | elapsed:    8.0s finished\n"
     ]
    },
    {
     "name": "stdout",
     "output_type": "stream",
     "text": [
      "analytic rd 0.35699749940726416 dimensionless\n",
      "numeric rd 0.35699749940726416 dimensionless\n",
      "dispersion ratio excess upwind: 0 %\n",
      "\n",
      "\n",
      "mass ratio excess: 0 %\n",
      "\n",
      "\n",
      "analytic rd 0.125866239312808 dimensionless\n",
      "numeric rd 0.15654148303172583 dimensionless\n",
      "dispersion ratio excess upwind: 24 %\n",
      "\n",
      "\n",
      "mass ratio excess: 5.5 %\n",
      "\n",
      "\n",
      "analytic rd 0.06898528061217586 dimensionless\n",
      "numeric rd 0.11780165417654583 dimensionless\n",
      "dispersion ratio excess upwind: 71 %\n",
      "\n",
      "\n",
      "mass ratio excess: 4.4 %\n",
      "\n",
      "\n",
      "grid_layout: x_log_of_pn\n"
     ]
    },
    {
     "data": {
      "application/vnd.jupyter.widget-view+json": {
       "model_id": "f659eae6350148d280ef710868772b81",
       "version_major": 2,
       "version_minor": 0
      },
      "text/plain": [
       "VBox(children=(Output(), HTML(value=\"<a href='../utils/output\\\\fig_upwinda.pdf' target='_blank'>../utils/outpu…"
      ]
     },
     "metadata": {},
     "output_type": "display_data"
    }
   ],
   "source": [
    "compute_and_plot(**plot_setup, opt_set=({\"n_iters\":1},), plots=('n','m'), filename = 'fig_upwinda.pdf')"
   ]
  },
  {
   "cell_type": "code",
   "execution_count": 6,
   "metadata": {
    "scrolled": false
   },
   "outputs": [
    {
     "name": "stderr",
     "output_type": "stream",
     "text": [
      "[Parallel(n_jobs=-2)]: Using backend ThreadingBackend with 7 concurrent workers.\n",
      "[Parallel(n_jobs=-2)]: Done   1 tasks      | elapsed:    9.0s\n",
      "[Parallel(n_jobs=-2)]: Done   1 out of   1 | elapsed:    9.0s finished\n"
     ]
    },
    {
     "name": "stdout",
     "output_type": "stream",
     "text": [
      "analytic rd 0.3569668694267919 dimensionless\n",
      "numeric rd 0.3569668694267919 dimensionless\n",
      "dispersion ratio excess upwind: 0 %\n",
      "\n",
      "\n",
      "mass ratio excess: 0 %\n",
      "\n",
      "\n",
      "analytic rd 0.12553338250327037 dimensionless\n",
      "numeric rd 0.14969083028424135 dimensionless\n",
      "dispersion ratio excess upwind: 19 %\n",
      "\n",
      "\n",
      "mass ratio excess: 0.89 %\n",
      "\n",
      "\n",
      "analytic rd 0.06717971636291314 dimensionless\n",
      "numeric rd 0.09911854639733908 dimensionless\n",
      "dispersion ratio excess upwind: 48 %\n",
      "\n",
      "\n",
      "mass ratio excess: 0.41 %\n",
      "\n",
      "\n",
      "grid_layout: x_id\n"
     ]
    },
    {
     "data": {
      "application/vnd.jupyter.widget-view+json": {
       "model_id": "31f4d987f7fb43ba97efc6ddda009c66",
       "version_major": 2,
       "version_minor": 0
      },
      "text/plain": [
       "VBox(children=(Output(), HTML(value=\"<a href='../utils/output\\\\fig_upwindb.pdf' target='_blank'>../utils/outpu…"
      ]
     },
     "metadata": {},
     "output_type": "display_data"
    }
   ],
   "source": [
    "compute_and_plot(**plot_setup2, opt_set=({\"n_iters\":1},), plots=['n','m'],  filename = 'fig_upwindb.pdf')"
   ]
  },
  {
   "cell_type": "code",
   "execution_count": 7,
   "metadata": {
    "scrolled": false
   },
   "outputs": [
    {
     "name": "stderr",
     "output_type": "stream",
     "text": [
      "[Parallel(n_jobs=-2)]: Using backend ThreadingBackend with 7 concurrent workers.\n",
      "[Parallel(n_jobs=-2)]: Done   3 out of   3 | elapsed:   58.7s remaining:    0.0s\n",
      "[Parallel(n_jobs=-2)]: Done   3 out of   3 | elapsed:   58.7s finished\n"
     ]
    },
    {
     "name": "stdout",
     "output_type": "stream",
     "text": [
      "analytic rd 0.35699749940726416 dimensionless\n",
      "numeric rd 0.35699749940726416 dimensionless\n",
      "dispersion ratio excess upwind: 0 %\n",
      "\n",
      "\n",
      "mass ratio excess: 0 %\n",
      "\n",
      "\n",
      "analytic rd 0.125866239312808 dimensionless\n",
      "numeric rd 0.15654148303172583 dimensionless\n",
      "dispersion ratio excess upwind: 24 %\n",
      "\n",
      "\n",
      "mass ratio excess: 5.5 %\n",
      "\n",
      "\n",
      "analytic rd 0.06898528061217586 dimensionless\n",
      "numeric rd 0.11780165417654583 dimensionless\n",
      "dispersion ratio excess upwind: 71 %\n",
      "\n",
      "\n",
      "mass ratio excess: 4.4 %\n",
      "\n",
      "\n",
      "analytic rd 0.35699749940726416 dimensionless\n",
      "numeric rd 0.35699749940726416 dimensionless\n",
      "dispersion ratio excess MPDATA 2 iterations: 0 %\n",
      "\n",
      "\n",
      "mass ratio excess: 0 %\n",
      "\n",
      "\n",
      "analytic rd 0.125866239312808 dimensionless\n",
      "numeric rd 0.14169886799513856 dimensionless\n",
      "dispersion ratio excess MPDATA 2 iterations: 13 %\n",
      "\n",
      "\n",
      "mass ratio excess: 2 %\n",
      "\n",
      "\n",
      "analytic rd 0.06898528061217586 dimensionless\n",
      "numeric rd 0.09810918714188281 dimensionless\n",
      "dispersion ratio excess MPDATA 2 iterations: 42 %\n",
      "\n",
      "\n",
      "mass ratio excess: 0.82 %\n",
      "\n",
      "\n",
      "analytic rd 0.35699749940726416 dimensionless\n",
      "numeric rd 0.35699749940726416 dimensionless\n",
      "dispersion ratio excess MPDATA 3 iterations: 0 %\n",
      "\n",
      "\n",
      "mass ratio excess: 0 %\n",
      "\n",
      "\n",
      "analytic rd 0.125866239312808 dimensionless\n",
      "numeric rd 0.13860642484602037 dimensionless\n",
      "dispersion ratio excess MPDATA 3 iterations: 10 %\n",
      "\n",
      "\n",
      "mass ratio excess: 1.5 %\n",
      "\n",
      "\n",
      "analytic rd 0.06898528061217586 dimensionless\n",
      "numeric rd 0.09312885227027101 dimensionless\n",
      "dispersion ratio excess MPDATA 3 iterations: 35 %\n",
      "\n",
      "\n",
      "mass ratio excess: 0.15 %\n",
      "\n",
      "\n",
      "grid_layout: x_log_of_pn\n"
     ]
    },
    {
     "data": {
      "application/vnd.jupyter.widget-view+json": {
       "model_id": "8203df4aa7084dc1807fc489128647d0",
       "version_major": 2,
       "version_minor": 0
      },
      "text/plain": [
       "VBox(children=(Output(), HTML(value=\"<a href='../utils/output\\\\fig_mpdatas.pdf' target='_blank'>../utils/outpu…"
      ]
     },
     "metadata": {},
     "output_type": "display_data"
    }
   ],
   "source": [
    "compute_and_plot(**plot_setup, opt_set=({'n_iters': 1},{'n_iters':2},{'n_iters':3}), plots=['n'], filename = 'fig_mpdatas.pdf')"
   ]
  },
  {
   "cell_type": "code",
   "execution_count": 8,
   "metadata": {
    "scrolled": false
   },
   "outputs": [
    {
     "name": "stderr",
     "output_type": "stream",
     "text": [
      "[Parallel(n_jobs=-2)]: Using backend ThreadingBackend with 7 concurrent workers.\n",
      "[Parallel(n_jobs=-2)]: Done   3 out of   3 | elapsed:   41.5s remaining:    0.0s\n",
      "[Parallel(n_jobs=-2)]: Done   3 out of   3 | elapsed:   41.5s finished\n"
     ]
    },
    {
     "name": "stdout",
     "output_type": "stream",
     "text": [
      "analytic rd 0.35699749940726416 dimensionless\n",
      "numeric rd 0.35699749940726416 dimensionless\n",
      "dispersion ratio excess upwind: 0 %\n",
      "\n",
      "\n",
      "mass ratio excess: 0 %\n",
      "\n",
      "\n",
      "analytic rd 0.125866239312808 dimensionless\n",
      "numeric rd 0.15654148303172583 dimensionless\n",
      "dispersion ratio excess upwind: 24 %\n",
      "\n",
      "\n",
      "mass ratio excess: 5.5 %\n",
      "\n",
      "\n",
      "analytic rd 0.06898528061217586 dimensionless\n",
      "numeric rd 0.11780165417654583 dimensionless\n",
      "dispersion ratio excess upwind: 71 %\n",
      "\n",
      "\n",
      "mass ratio excess: 4.4 %\n",
      "\n",
      "\n",
      "analytic rd 0.35699749940726416 dimensionless\n",
      "numeric rd 0.35699749940726416 dimensionless\n",
      "dispersion ratio excess MPDATA 2 iterations: 0 %\n",
      "\n",
      "\n",
      "mass ratio excess: 0 %\n",
      "\n",
      "\n",
      "analytic rd 0.125866239312808 dimensionless\n",
      "numeric rd 0.14169886799513856 dimensionless\n",
      "dispersion ratio excess MPDATA 2 iterations: 13 %\n",
      "\n",
      "\n",
      "mass ratio excess: 2 %\n",
      "\n",
      "\n",
      "analytic rd 0.06898528061217586 dimensionless\n",
      "numeric rd 0.09810918714188281 dimensionless\n",
      "dispersion ratio excess MPDATA 2 iterations: 42 %\n",
      "\n",
      "\n",
      "mass ratio excess: 0.82 %\n",
      "\n",
      "\n",
      "analytic rd 0.35699749940726416 dimensionless\n",
      "numeric rd 0.35699749940726416 dimensionless\n",
      "dispersion ratio excess MPDATA 2 iterations  infinite gauge: 0 %\n",
      "\n",
      "\n",
      "mass ratio excess: 0 %\n",
      "\n",
      "\n",
      "analytic rd 0.125866239312808 dimensionless\n",
      "numeric rd 0.13603394389960125 dimensionless\n",
      "dispersion ratio excess MPDATA 2 iterations  infinite gauge: 8.1 %\n",
      "\n",
      "\n",
      "mass ratio excess: 1.7 %\n",
      "\n",
      "\n",
      "analytic rd 0.06898528061217586 dimensionless\n",
      "numeric rd 0.08682680651462878 dimensionless\n",
      "dispersion ratio excess MPDATA 2 iterations  infinite gauge: 26 %\n",
      "\n",
      "\n",
      "mass ratio excess: 0.79 %\n",
      "\n",
      "\n",
      "grid_layout: x_log_of_pn\n"
     ]
    },
    {
     "data": {
      "application/vnd.jupyter.widget-view+json": {
       "model_id": "d76537f9ad5f44d18fe62cabfe10c7b9",
       "version_major": 2,
       "version_minor": 0
      },
      "text/plain": [
       "VBox(children=(Output(), HTML(value=\"<a href='../utils/output\\\\fig_iga.pdf' target='_blank'>../utils/output\\\\f…"
      ]
     },
     "metadata": {},
     "output_type": "display_data"
    }
   ],
   "source": [
    "compute_and_plot(**plot_setup, opt_set=({'n_iters': 1},{'n_iters':2},{'n_iters':2,'infinite_gauge':True}), plots=['n'], filename = 'fig_iga.pdf')"
   ]
  },
  {
   "cell_type": "code",
   "execution_count": 9,
   "metadata": {
    "scrolled": false
   },
   "outputs": [
    {
     "name": "stderr",
     "output_type": "stream",
     "text": [
      "[Parallel(n_jobs=-2)]: Using backend ThreadingBackend with 7 concurrent workers.\n",
      "[Parallel(n_jobs=-2)]: Done   3 out of   3 | elapsed:  1.0min remaining:    0.0s\n",
      "[Parallel(n_jobs=-2)]: Done   3 out of   3 | elapsed:  1.0min finished\n"
     ]
    },
    {
     "name": "stdout",
     "output_type": "stream",
     "text": [
      "analytic rd 0.35699749940726416 dimensionless\n",
      "numeric rd 0.35699749940726416 dimensionless\n",
      "dispersion ratio excess upwind: 0 %\n",
      "\n",
      "\n",
      "mass ratio excess: 0 %\n",
      "\n",
      "\n",
      "analytic rd 0.125866239312808 dimensionless\n",
      "numeric rd 0.15654148303172583 dimensionless\n",
      "dispersion ratio excess upwind: 24 %\n",
      "\n",
      "\n",
      "mass ratio excess: 5.5 %\n",
      "\n",
      "\n",
      "analytic rd 0.06898528061217586 dimensionless\n",
      "numeric rd 0.11780165417654583 dimensionless\n",
      "dispersion ratio excess upwind: 71 %\n",
      "\n",
      "\n",
      "mass ratio excess: 4.4 %\n",
      "\n",
      "\n",
      "analytic rd 0.35699749940726416 dimensionless\n",
      "numeric rd 0.35699749940726416 dimensionless\n",
      "dispersion ratio excess MPDATA 2 iterations: 0 %\n",
      "\n",
      "\n",
      "mass ratio excess: 0 %\n",
      "\n",
      "\n",
      "analytic rd 0.125866239312808 dimensionless\n",
      "numeric rd 0.14169886799513856 dimensionless\n",
      "dispersion ratio excess MPDATA 2 iterations: 13 %\n",
      "\n",
      "\n",
      "mass ratio excess: 2 %\n",
      "\n",
      "\n",
      "analytic rd 0.06898528061217586 dimensionless\n",
      "numeric rd 0.09810918714188281 dimensionless\n",
      "dispersion ratio excess MPDATA 2 iterations: 42 %\n",
      "\n",
      "\n",
      "mass ratio excess: 0.82 %\n",
      "\n",
      "\n",
      "analytic rd 0.35699749940726416 dimensionless\n",
      "numeric rd 0.35699749940726416 dimensionless\n",
      "dispersion ratio excess MPDATA 2 iterations  infinite gauge  flux corrected transport: 0 %\n",
      "\n",
      "\n",
      "mass ratio excess: 0 %\n",
      "\n",
      "\n",
      "analytic rd 0.125866239312808 dimensionless\n",
      "numeric rd 0.13698235019870936 dimensionless\n",
      "dispersion ratio excess MPDATA 2 iterations  infinite gauge  flux corrected transport: 8.8 %\n",
      "\n",
      "\n",
      "mass ratio excess: 1.5 %\n",
      "\n",
      "\n",
      "analytic rd 0.06898528061217586 dimensionless\n",
      "numeric rd 0.08985396305185618 dimensionless\n",
      "dispersion ratio excess MPDATA 2 iterations  infinite gauge  flux corrected transport: 30 %\n",
      "\n",
      "\n",
      "mass ratio excess: 0.3 %\n",
      "\n",
      "\n",
      "grid_layout: x_log_of_pn\n"
     ]
    },
    {
     "data": {
      "application/vnd.jupyter.widget-view+json": {
       "model_id": "1ce00254cccd4c7d89f19613e24aa09c",
       "version_major": 2,
       "version_minor": 0
      },
      "text/plain": [
       "VBox(children=(Output(), HTML(value=\"<a href='../utils/output\\\\fig_fct.pdf' target='_blank'>../utils/output\\\\f…"
      ]
     },
     "metadata": {},
     "output_type": "display_data"
    }
   ],
   "source": [
    "compute_and_plot(**plot_setup, opt_set=({'n_iters': 1},{'n_iters':2},{'n_iters':2,'infinite_gauge':True,'flux_corrected_transport':True}), plots=['n'], filename = 'fig_fct.pdf')"
   ]
  },
  {
   "cell_type": "code",
   "execution_count": 10,
   "metadata": {},
   "outputs": [
    {
     "name": "stderr",
     "output_type": "stream",
     "text": [
      "[Parallel(n_jobs=-2)]: Using backend ThreadingBackend with 7 concurrent workers.\n",
      "[Parallel(n_jobs=-2)]: Done   3 out of   3 | elapsed:  1.2min remaining:    0.0s\n",
      "[Parallel(n_jobs=-2)]: Done   3 out of   3 | elapsed:  1.2min finished\n"
     ]
    },
    {
     "name": "stdout",
     "output_type": "stream",
     "text": [
      "analytic rd 0.35699749940726416 dimensionless\n",
      "numeric rd 0.35699749940726416 dimensionless\n",
      "dispersion ratio excess upwind: 0 %\n",
      "\n",
      "\n",
      "mass ratio excess: 0 %\n",
      "\n",
      "\n",
      "analytic rd 0.125866239312808 dimensionless\n",
      "numeric rd 0.15654148303172583 dimensionless\n",
      "dispersion ratio excess upwind: 24 %\n",
      "\n",
      "\n",
      "mass ratio excess: 5.5 %\n",
      "\n",
      "\n",
      "analytic rd 0.06898528061217586 dimensionless\n",
      "numeric rd 0.11780165417654583 dimensionless\n",
      "dispersion ratio excess upwind: 71 %\n",
      "\n",
      "\n",
      "mass ratio excess: 4.4 %\n",
      "\n",
      "\n",
      "analytic rd 0.35699749940726416 dimensionless\n",
      "numeric rd 0.35699749940726416 dimensionless\n",
      "dispersion ratio excess MPDATA 2 iterations: 0 %\n",
      "\n",
      "\n",
      "mass ratio excess: 0 %\n",
      "\n",
      "\n",
      "analytic rd 0.125866239312808 dimensionless\n",
      "numeric rd 0.14169886799513856 dimensionless\n",
      "dispersion ratio excess MPDATA 2 iterations: 13 %\n",
      "\n",
      "\n",
      "mass ratio excess: 2 %\n",
      "\n",
      "\n",
      "analytic rd 0.06898528061217586 dimensionless\n",
      "numeric rd 0.09810918714188281 dimensionless\n",
      "dispersion ratio excess MPDATA 2 iterations: 42 %\n",
      "\n",
      "\n",
      "mass ratio excess: 0.82 %\n",
      "\n",
      "\n",
      "analytic rd 0.35699749940726416 dimensionless\n",
      "numeric rd 0.35699749940726416 dimensionless\n",
      "dispersion ratio excess MPDATA 2 iterations  flux corrected transport: 0 %\n",
      "\n",
      "\n",
      "mass ratio excess: 0 %\n",
      "\n",
      "\n",
      "analytic rd 0.125866239312808 dimensionless\n",
      "numeric rd 0.1416034818806166 dimensionless\n",
      "dispersion ratio excess MPDATA 2 iterations  flux corrected transport: 13 %\n",
      "\n",
      "\n",
      "mass ratio excess: 2 %\n",
      "\n",
      "\n",
      "analytic rd 0.06898528061217586 dimensionless\n",
      "numeric rd 0.09797830646732988 dimensionless\n",
      "dispersion ratio excess MPDATA 2 iterations  flux corrected transport: 42 %\n",
      "\n",
      "\n",
      "mass ratio excess: 0.97 %\n",
      "\n",
      "\n",
      "grid_layout: x_log_of_pn\n"
     ]
    },
    {
     "data": {
      "application/vnd.jupyter.widget-view+json": {
       "model_id": "b6aa519d120c4962aa33780305eecd51",
       "version_major": 2,
       "version_minor": 0
      },
      "text/plain": [
       "VBox(children=(Output(), HTML(value=\"<a href='../utils/output\\\\fig_fct.pdf' target='_blank'>../utils/output\\\\f…"
      ]
     },
     "metadata": {},
     "output_type": "display_data"
    }
   ],
   "source": [
    "compute_and_plot(**plot_setup, opt_set=({'n_iters': 1},{'n_iters':2},{'n_iters':2,'flux_corrected_transport':True}), plots=['n'], filename = 'fig_fct.pdf')"
   ]
  },
  {
   "cell_type": "code",
   "execution_count": 11,
   "metadata": {
    "scrolled": false
   },
   "outputs": [
    {
     "name": "stderr",
     "output_type": "stream",
     "text": [
      "[Parallel(n_jobs=-2)]: Using backend ThreadingBackend with 7 concurrent workers.\n",
      "[Parallel(n_jobs=-2)]: Done   3 out of   3 | elapsed:  1.5min remaining:    0.0s\n",
      "[Parallel(n_jobs=-2)]: Done   3 out of   3 | elapsed:  1.5min finished\n"
     ]
    },
    {
     "name": "stdout",
     "output_type": "stream",
     "text": [
      "analytic rd 0.35699749940726416 dimensionless\n",
      "numeric rd 0.35699749940726416 dimensionless\n",
      "dispersion ratio excess upwind: 0 %\n",
      "\n",
      "\n",
      "mass ratio excess: 0 %\n",
      "\n",
      "\n",
      "analytic rd 0.125866239312808 dimensionless\n",
      "numeric rd 0.15654148303172583 dimensionless\n",
      "dispersion ratio excess upwind: 24 %\n",
      "\n",
      "\n",
      "mass ratio excess: 5.5 %\n",
      "\n",
      "\n",
      "analytic rd 0.06898528061217586 dimensionless\n",
      "numeric rd 0.11780165417654583 dimensionless\n",
      "dispersion ratio excess upwind: 71 %\n",
      "\n",
      "\n",
      "mass ratio excess: 4.4 %\n",
      "\n",
      "\n",
      "analytic rd 0.35699749940726416 dimensionless\n",
      "numeric rd 0.35699749940726416 dimensionless\n",
      "dispersion ratio excess MPDATA 3 iterations: 0 %\n",
      "\n",
      "\n",
      "mass ratio excess: 0 %\n",
      "\n",
      "\n",
      "analytic rd 0.125866239312808 dimensionless\n",
      "numeric rd 0.13860642484602037 dimensionless\n",
      "dispersion ratio excess MPDATA 3 iterations: 10 %\n",
      "\n",
      "\n",
      "mass ratio excess: 1.5 %\n",
      "\n",
      "\n",
      "analytic rd 0.06898528061217586 dimensionless\n",
      "numeric rd 0.09312885227027101 dimensionless\n",
      "dispersion ratio excess MPDATA 3 iterations: 35 %\n",
      "\n",
      "\n",
      "mass ratio excess: 0.15 %\n",
      "\n",
      "\n",
      "analytic rd 0.35699749940726416 dimensionless\n",
      "numeric rd 0.35699749940726416 dimensionless\n",
      "dispersion ratio excess MPDATA 3 iterations  third order terms: 0 %\n",
      "\n",
      "\n",
      "mass ratio excess: 0 %\n",
      "\n",
      "\n",
      "analytic rd 0.125866239312808 dimensionless\n",
      "numeric rd 0.13591220905542112 dimensionless\n",
      "dispersion ratio excess MPDATA 3 iterations  third order terms: 8 %\n",
      "\n",
      "\n",
      "mass ratio excess: 1.6 %\n",
      "\n",
      "\n",
      "analytic rd 0.06898528061217586 dimensionless\n",
      "numeric rd 0.08833896405454483 dimensionless\n",
      "dispersion ratio excess MPDATA 3 iterations  third order terms: 28 %\n",
      "\n",
      "\n",
      "mass ratio excess: 1.2 %\n",
      "\n",
      "\n",
      "grid_layout: x_log_of_pn\n"
     ]
    },
    {
     "data": {
      "application/vnd.jupyter.widget-view+json": {
       "model_id": "106ae25da0a34ff4b049189c537d3674",
       "version_major": 2,
       "version_minor": 0
      },
      "text/plain": [
       "VBox(children=(Output(), HTML(value=\"<a href='../utils/output\\\\fig_tot.pdf' target='_blank'>../utils/output\\\\f…"
      ]
     },
     "metadata": {},
     "output_type": "display_data"
    }
   ],
   "source": [
    "compute_and_plot(**plot_setup, opt_set=({'n_iters': 1},{'n_iters':3},{'n_iters':3,'third_order_terms':True}), plots=['n'], filename = 'fig_tot.pdf')"
   ]
  },
  {
   "cell_type": "code",
   "execution_count": 12,
   "metadata": {
    "scrolled": false
   },
   "outputs": [
    {
     "name": "stderr",
     "output_type": "stream",
     "text": [
      "[Parallel(n_jobs=-2)]: Using backend ThreadingBackend with 7 concurrent workers.\n",
      "[Parallel(n_jobs=-2)]: Done   3 out of   3 | elapsed:  1.7min remaining:    0.0s\n",
      "[Parallel(n_jobs=-2)]: Done   3 out of   3 | elapsed:  1.7min finished\n"
     ]
    },
    {
     "name": "stdout",
     "output_type": "stream",
     "text": [
      "analytic rd 0.35699749940726416 dimensionless\n",
      "numeric rd 0.35699749940726416 dimensionless\n",
      "dispersion ratio excess upwind: 0 %\n",
      "\n",
      "\n",
      "mass ratio excess: 0 %\n",
      "\n",
      "\n",
      "analytic rd 0.125866239312808 dimensionless\n",
      "numeric rd 0.15654148303172583 dimensionless\n",
      "dispersion ratio excess upwind: 24 %\n",
      "\n",
      "\n",
      "mass ratio excess: 5.5 %\n",
      "\n",
      "\n",
      "analytic rd 0.06898528061217586 dimensionless\n",
      "numeric rd 0.11780165417654583 dimensionless\n",
      "dispersion ratio excess upwind: 71 %\n",
      "\n",
      "\n",
      "mass ratio excess: 4.4 %\n",
      "\n",
      "\n",
      "analytic rd 0.35699749940726416 dimensionless\n",
      "numeric rd 0.35699749940726416 dimensionless\n",
      "dispersion ratio excess MPDATA 2 iterations: 0 %\n",
      "\n",
      "\n",
      "mass ratio excess: 0 %\n",
      "\n",
      "\n",
      "analytic rd 0.125866239312808 dimensionless\n",
      "numeric rd 0.14169886799513856 dimensionless\n",
      "dispersion ratio excess MPDATA 2 iterations: 13 %\n",
      "\n",
      "\n",
      "mass ratio excess: 2 %\n",
      "\n",
      "\n",
      "analytic rd 0.06898528061217586 dimensionless\n",
      "numeric rd 0.09810918714188281 dimensionless\n",
      "dispersion ratio excess MPDATA 2 iterations: 42 %\n",
      "\n",
      "\n",
      "mass ratio excess: 0.82 %\n",
      "\n",
      "\n",
      "analytic rd 0.35699749940726416 dimensionless\n",
      "numeric rd 0.35699749940726416 dimensionless\n",
      "dispersion ratio excess MPDATA 3 iterations  infinite gauge  flux corrected transport  third order terms: 0 %\n",
      "\n",
      "\n",
      "mass ratio excess: 0 %\n",
      "\n",
      "\n",
      "analytic rd 0.125866239312808 dimensionless\n",
      "numeric rd 0.12888704232309842 dimensionless\n",
      "dispersion ratio excess MPDATA 3 iterations  infinite gauge  flux corrected transport  third order terms: 2.4 %\n",
      "\n",
      "\n",
      "mass ratio excess: 0.64 %\n",
      "\n",
      "\n",
      "analytic rd 0.06898528061217586 dimensionless\n",
      "numeric rd 0.07350991059580349 dimensionless\n",
      "dispersion ratio excess MPDATA 3 iterations  infinite gauge  flux corrected transport  third order terms: 6.6 %\n",
      "\n",
      "\n",
      "mass ratio excess: -0.88 %\n",
      "\n",
      "\n",
      "grid_layout: x_log_of_pn\n"
     ]
    },
    {
     "data": {
      "application/vnd.jupyter.widget-view+json": {
       "model_id": "5052a00dbed14de8a690e8b5db7e99ce",
       "version_major": 2,
       "version_minor": 0
      },
      "text/plain": [
       "VBox(children=(Output(), HTML(value=\"<a href='../utils/output\\\\fig_multiopt.pdf' target='_blank'>../utils/outp…"
      ]
     },
     "metadata": {},
     "output_type": "display_data"
    }
   ],
   "source": [
    "compute_and_plot(**plot_setup, opt_set=(\n",
    "    {'n_iters':1},\n",
    "    {'n_iters':2},\n",
    "    {'n_iters':3,'infinite_gauge':True, 'flux_corrected_transport':True,'third_order_terms':True},\n",
    "), plots=['n'], filename='fig_multiopt.pdf')"
   ]
  },
  {
   "cell_type": "code",
   "execution_count": null,
   "metadata": {},
   "outputs": [],
   "source": []
  },
  {
   "cell_type": "code",
   "execution_count": 13,
   "metadata": {},
   "outputs": [],
   "source": [
    "def compare_refdata(data, name, generate=False):\n",
    "    path = pathlib.Path(os.getcwd()).joinpath(f\"{name}_refdata.txt\")\n",
    "    datastr=str(data)\n",
    "    if generate:\n",
    "        with open(path, 'w+') as file: \n",
    "            file.write(datastr)\n",
    "    else:\n",
    "        with open(path, 'r') as file:\n",
    "            assert file.read()==datastr\n",
    "            print(file)"
   ]
  },
  {
   "cell_type": "code",
   "execution_count": 14,
   "metadata": {},
   "outputs": [],
   "source": [
    "compare_refdata(excess_mass_ratios, name=\"mass ratios\", generate=True)"
   ]
  },
  {
   "cell_type": "code",
   "execution_count": null,
   "metadata": {},
   "outputs": [],
   "source": []
  },
  {
   "cell_type": "code",
   "execution_count": 15,
   "metadata": {},
   "outputs": [],
   "source": [
    "def make_textable(data, generate=False, print_tab=False):\n",
    "    latex_data = r\"\\hline\" + \" Variant  & Elapsed Real Time (wrt upwind) \" + r\"\\\\ \\hline\" + \"\\n\"\n",
    "    for opt, value in zip(data[\"opts\"], data[\"values\"]):\n",
    "        latex_data += r\"\\hline\" + f\" {opt} & {value} \" + r\"\\\\ \\hline\" + \"\\n\"\n",
    "    latex_start = r\"\\begin{table}[]\" + \"\\n\" + r\"\\begin{tabular}{| l | l |}\" + \"\\n\"\n",
    "    latex_end = \"\\end{tabular} \\n \\end{table}\"\n",
    "    latex_table = latex_start + latex_data + latex_end\n",
    "    if print_tab:\n",
    "        print(latex_table)\n",
    "    with open(pathlib.Path(__file__).parent.joinpath(\"wall_time_textable.txt\"), \"w+\" if generate else \"r\") as f:\n",
    "        if generate:\n",
    "            f.write(latex_table)"
   ]
  },
  {
   "cell_type": "code",
   "execution_count": null,
   "metadata": {},
   "outputs": [],
   "source": []
  }
 ],
 "metadata": {
  "kernelspec": {
   "display_name": "Python 3",
   "language": "python",
   "name": "python3"
  },
  "language_info": {
   "codemirror_mode": {
    "name": "ipython",
    "version": 3
   },
   "file_extension": ".py",
   "mimetype": "text/x-python",
   "name": "python",
   "nbconvert_exporter": "python",
   "pygments_lexer": "ipython3",
   "version": "3.7.6"
  }
 },
 "nbformat": 4,
 "nbformat_minor": 2
}
